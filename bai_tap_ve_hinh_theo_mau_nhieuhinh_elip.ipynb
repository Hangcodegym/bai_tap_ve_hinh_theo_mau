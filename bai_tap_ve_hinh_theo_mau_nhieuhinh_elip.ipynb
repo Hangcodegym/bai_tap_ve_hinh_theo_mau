{
 "cells": [
  {
   "cell_type": "code",
   "execution_count": null,
   "id": "2c62cf0b",
   "metadata": {},
   "outputs": [],
   "source": [
    "import turtle\n",
    "import random\n",
    "\n",
    "t=turtle.Turtle()\n",
    "t.speed(0)\n",
    "screen=turtle.Screen()\n",
    "screen.bgcolor('black')\n",
    "i=1\n",
    "g=-10\n",
    "rad=100\n",
    "while i<=36:\n",
    "    \n",
    "    t.setheading(g)\n",
    "    \n",
    "    t.pencolor(f'#{random.randint(0,255):02X}{random.randint(0,255):02X}{random.randint(0,255):02X}')\n",
    "    \n",
    "    t.right(45)\n",
    "    t.circle(rad,90)\n",
    "    t.circle(rad/2,90)\n",
    "    t.circle(rad,90)\n",
    "    t.circle(rad/2,90)\n",
    "    \n",
    "    g-=10\n",
    "    i+=1\n",
    "    \n",
    "turtle.done()"
   ]
  }
 ],
 "metadata": {
  "kernelspec": {
   "display_name": "Python 3 (ipykernel)",
   "language": "python",
   "name": "python3"
  },
  "language_info": {
   "codemirror_mode": {
    "name": "ipython",
    "version": 3
   },
   "file_extension": ".py",
   "mimetype": "text/x-python",
   "name": "python",
   "nbconvert_exporter": "python",
   "pygments_lexer": "ipython3",
   "version": "3.9.12"
  }
 },
 "nbformat": 4,
 "nbformat_minor": 5
}
